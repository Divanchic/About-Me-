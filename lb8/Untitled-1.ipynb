{
 "cells": [
  {
   "cell_type": "markdown",
   "metadata": {},
   "source": [
    "Лабораторная работа №8\n",
    "Цель:\n",
    "- Освоить работу с Excel-файлами средствами Python.\n",
    "- Научиться использовать библиотеку openpyxl для чтения и записи данных.\n",
    "- Научиться строить столбчатые диаграммы с помощью matplotlib.\n",
    "- Развить навыки обработки и визуализации табличных данных.\n",
    "\n",
    "Задачи:\n",
    "- Считать данные из Excel-файла с результатами студентов.\n",
    "- Выполнить вычисления (средние, максимальные, групповые показатели).\n",
    "- Построить столбчатые диаграммы по заданным вариантам.\n",
    "- Подписать оси, добавить заголовки и легенды к графикам.\n",
    "- Сохранить результаты и визуализации в Jupyter Notebook.\n",
    "\n",
    "Вариант 3"
   ]
  },
  {
   "cell_type": "markdown",
   "metadata": {},
   "source": [
    "Задание 1: Вычислить процент учащихся с отметкой ниже 6 отдельно для каждого\n",
    "предмета (Математика, Физика, Информатика.)."
   ]
  },
  {
   "cell_type": "code",
   "execution_count": 10,
   "metadata": {},
   "outputs": [
    {
     "ename": "KeyError",
     "evalue": "'Worksheet A1 does not exist.'",
     "output_type": "error",
     "traceback": [
      "\u001b[31m---------------------------------------------------------------------------\u001b[39m",
      "\u001b[31mKeyError\u001b[39m                                  Traceback (most recent call last)",
      "\u001b[36mCell\u001b[39m\u001b[36m \u001b[39m\u001b[32mIn[10]\u001b[39m\u001b[32m, line 3\u001b[39m\n\u001b[32m      1\u001b[39m \u001b[38;5;28;01mfrom\u001b[39;00m\u001b[38;5;250m \u001b[39m\u001b[34;01mopenpyxl\u001b[39;00m\u001b[38;5;250m \u001b[39m\u001b[38;5;28;01mimport\u001b[39;00m load_workbook\n\u001b[32m      2\u001b[39m wb = load_workbook(\u001b[33mr\u001b[39m\u001b[33m'\u001b[39m\u001b[33mC:\u001b[39m\u001b[33m\\\u001b[39m\u001b[33mUsers\u001b[39m\u001b[33m\\\u001b[39m\u001b[33mKudlaIva_89\u001b[39m\u001b[33m\\\u001b[39m\u001b[33mDesktop\u001b[39m\u001b[33m\\\u001b[39m\u001b[33mЛабы Кудлаш\u001b[39m\u001b[33m\\\u001b[39m\u001b[33mlb8\u001b[39m\u001b[33m\\\u001b[39m\u001b[33mstudents.xlsx\u001b[39m\u001b[33m'\u001b[39m)\n\u001b[32m----> \u001b[39m\u001b[32m3\u001b[39m \u001b[43mwb\u001b[49m\u001b[43m[\u001b[49m\u001b[33;43m'\u001b[39;49m\u001b[33;43mA1\u001b[39;49m\u001b[33;43m'\u001b[39;49m\u001b[43m]\u001b[49m\n",
      "\u001b[36mFile \u001b[39m\u001b[32mc:\\Users\\KudlaIva_89\\AppData\\Local\\Programs\\Python\\Python313\\Lib\\site-packages\\openpyxl\\workbook\\workbook.py:287\u001b[39m, in \u001b[36mWorkbook.__getitem__\u001b[39m\u001b[34m(self, key)\u001b[39m\n\u001b[32m    285\u001b[39m     \u001b[38;5;28;01mif\u001b[39;00m sheet.title == key:\n\u001b[32m    286\u001b[39m         \u001b[38;5;28;01mreturn\u001b[39;00m sheet\n\u001b[32m--> \u001b[39m\u001b[32m287\u001b[39m \u001b[38;5;28;01mraise\u001b[39;00m \u001b[38;5;167;01mKeyError\u001b[39;00m(\u001b[33m\"\u001b[39m\u001b[33mWorksheet \u001b[39m\u001b[38;5;132;01m{0}\u001b[39;00m\u001b[33m does not exist.\u001b[39m\u001b[33m\"\u001b[39m.format(key))\n",
      "\u001b[31mKeyError\u001b[39m: 'Worksheet A1 does not exist.'"
     ]
    }
   ],
   "source": [
    "from openpyxl import load_workbook\n",
    "wb = load_workbook('C:\\Users\\KudlaIva_89\\Desktop\\Лабы Кудлаш\\lb8\\students.xlsx')\n",
    "wb['A1']"
   ]
  }
 ],
 "metadata": {
  "kernelspec": {
   "display_name": "Python 3",
   "language": "python",
   "name": "python3"
  },
  "language_info": {
   "codemirror_mode": {
    "name": "ipython",
    "version": 3
   },
   "file_extension": ".py",
   "mimetype": "text/x-python",
   "name": "python",
   "nbconvert_exporter": "python",
   "pygments_lexer": "ipython3",
   "version": "3.13.7"
  }
 },
 "nbformat": 4,
 "nbformat_minor": 2
}
